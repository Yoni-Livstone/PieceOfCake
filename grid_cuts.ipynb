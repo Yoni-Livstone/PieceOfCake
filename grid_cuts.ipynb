{
 "cells": [
  {
   "cell_type": "code",
   "execution_count": 1,
   "metadata": {},
   "outputs": [],
   "source": [
    "import numpy as np"
   ]
  },
  {
   "cell_type": "code",
   "execution_count": 2,
   "metadata": {},
   "outputs": [],
   "source": [
    "width = 10\n",
    "height = 5\n",
    "\n",
    "num_vertical = 3\n",
    "num_horizontal = 2"
   ]
  },
  {
   "cell_type": "code",
   "execution_count": 3,
   "metadata": {},
   "outputs": [],
   "source": [
    "def calculate_piece_areas(width, height, x_cuts, y_cuts):\n",
    "    x_coords = np.sort(np.concatenate(([0], x_cuts, [width])))\n",
    "    y_coords = np.sort(np.concatenate(([0], y_cuts, [height])))\n",
    "    \n",
    "    piece_widths = np.diff(x_coords)\n",
    "    piece_heights = np.diff(y_coords)\n",
    "    \n",
    "    areas = np.concatenate(np.outer(piece_widths, piece_heights))\n",
    "    \n",
    "    return areas\n",
    "\n"
   ]
  },
  {
   "cell_type": "code",
   "execution_count": 4,
   "metadata": {},
   "outputs": [
    {
     "name": "stdout",
     "output_type": "stream",
     "text": [
      "Areas of individual pieces: [ 9  0  6 12  0  8  3  0  2  6  0  4]\n"
     ]
    }
   ],
   "source": [
    "x_cuts = np.random.randint(1, width, num_vertical)\n",
    "y_cuts = np.random.randint(1, height, num_horizontal)\n",
    "\n",
    "areas = calculate_piece_areas(width, height, x_cuts, y_cuts)\n",
    "print(\"Areas of individual pieces:\", areas)"
   ]
  }
 ],
 "metadata": {
  "kernelspec": {
   "display_name": "Python 3",
   "language": "python",
   "name": "python3"
  },
  "language_info": {
   "codemirror_mode": {
    "name": "ipython",
    "version": 3
   },
   "file_extension": ".py",
   "mimetype": "text/x-python",
   "name": "python",
   "nbconvert_exporter": "python",
   "pygments_lexer": "ipython3",
   "version": "3.11.9"
  }
 },
 "nbformat": 4,
 "nbformat_minor": 2
}
